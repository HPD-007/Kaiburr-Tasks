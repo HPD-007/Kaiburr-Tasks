{
  "nbformat": 4,
  "nbformat_minor": 0,
  "metadata": {
    "colab": {
      "provenance": []
    },
    "kernelspec": {
      "name": "python3",
      "display_name": "Python 3"
    },
    "language_info": {
      "name": "python"
    }
  },
  "cells": [
    {
      "cell_type": "code",
      "execution_count": 3,
      "metadata": {
        "colab": {
          "base_uri": "https://localhost:8080/",
          "height": 1000
        },
        "id": "PCAqHidhwkY4",
        "outputId": "084890c2-6ebd-4e0a-ccd0-e3e4c56365cd"
      },
      "outputs": [
        {
          "output_type": "stream",
          "name": "stderr",
          "text": [
            "<ipython-input-3-e3b262171c48>:14: DtypeWarning: Columns (16) have mixed types. Specify dtype option on import or set low_memory=False.\n",
            "  df = pd.read_csv(dataset_url, compression='zip')  # Load the dataset\n"
          ]
        },
        {
          "output_type": "stream",
          "name": "stdout",
          "text": [
            "  Date received                                            Product  \\\n",
            "0    2023-12-13  Credit reporting or other personal consumer re...   \n",
            "1    2023-12-12  Credit reporting or other personal consumer re...   \n",
            "2    2023-11-15  Credit reporting or other personal consumer re...   \n",
            "3    2023-11-15  Credit reporting or other personal consumer re...   \n",
            "4    2023-12-12  Credit reporting or other personal consumer re...   \n",
            "\n",
            "        Sub-product                                 Issue  \\\n",
            "0  Credit reporting           Improper use of your report   \n",
            "1  Credit reporting  Incorrect information on your report   \n",
            "2  Credit reporting           Improper use of your report   \n",
            "3  Credit reporting           Improper use of your report   \n",
            "4  Credit reporting  Incorrect information on your report   \n",
            "\n",
            "                                           Sub-issue  \\\n",
            "0  Credit inquiries on your report that you don't...   \n",
            "1                      Account information incorrect   \n",
            "2  Credit inquiries on your report that you don't...   \n",
            "3      Reporting company used your report improperly   \n",
            "4                Information belongs to someone else   \n",
            "\n",
            "                        Consumer complaint narrative Company public response  \\\n",
            "0                                                NaN                     NaN   \n",
            "1                                                NaN                     NaN   \n",
            "2  XXXX XXXX XXXX XXXX XXXX XXXX XXXX XXXX XXXXXX...                     NaN   \n",
            "3                                                NaN                     NaN   \n",
            "4                                                NaN                     NaN   \n",
            "\n",
            "                               Company State ZIP code Tags  \\\n",
            "0                        EQUIFAX, INC.    IN    46074  NaN   \n",
            "1                        EQUIFAX, INC.    LA    71055  NaN   \n",
            "2  Experian Information Solutions Inc.    GA    30214  NaN   \n",
            "3  Experian Information Solutions Inc.    TX    781XX  NaN   \n",
            "4                        EQUIFAX, INC.    CA    93611  NaN   \n",
            "\n",
            "  Consumer consent provided? Submitted via Date sent to company  \\\n",
            "0                        NaN           Web           2023-12-13   \n",
            "1                        NaN           Web           2023-12-12   \n",
            "2           Consent provided           Web           2023-11-15   \n",
            "3                        NaN           Web           2023-11-15   \n",
            "4                        NaN           Web           2023-12-12   \n",
            "\n",
            "  Company response to consumer Timely response? Consumer disputed?  \\\n",
            "0                  In progress              Yes                NaN   \n",
            "1                  In progress              Yes                NaN   \n",
            "2                  In progress              Yes                NaN   \n",
            "3                  In progress              Yes                NaN   \n",
            "4                  In progress              Yes                NaN   \n",
            "\n",
            "   Complaint ID  \n",
            "0       7987287  \n",
            "1       7982682  \n",
            "2       7853224  \n",
            "3       7861295  \n",
            "4       7986708  \n",
            "<class 'pandas.core.frame.DataFrame'>\n",
            "RangeIndex: 4538419 entries, 0 to 4538418\n",
            "Data columns (total 18 columns):\n",
            " #   Column                        Dtype \n",
            "---  ------                        ----- \n",
            " 0   Date received                 object\n",
            " 1   Product                       object\n",
            " 2   Sub-product                   object\n",
            " 3   Issue                         object\n",
            " 4   Sub-issue                     object\n",
            " 5   Consumer complaint narrative  object\n",
            " 6   Company public response       object\n",
            " 7   Company                       object\n",
            " 8   State                         object\n",
            " 9   ZIP code                      object\n",
            " 10  Tags                          object\n",
            " 11  Consumer consent provided?    object\n",
            " 12  Submitted via                 object\n",
            " 13  Date sent to company          object\n",
            " 14  Company response to consumer  object\n",
            " 15  Timely response?              object\n",
            " 16  Consumer disputed?            object\n",
            " 17  Complaint ID                  int64 \n",
            "dtypes: int64(1), object(17)\n",
            "memory usage: 623.3+ MB\n",
            "None\n",
            "       Complaint ID\n",
            "count  4.538419e+06\n",
            "mean   4.687410e+06\n",
            "std    2.197994e+06\n",
            "min    1.000000e+00\n",
            "25%    3.030746e+06\n",
            "50%    4.725067e+06\n",
            "75%    6.642682e+06\n",
            "max    8.155355e+06\n"
          ]
        },
        {
          "output_type": "error",
          "ename": "KeyError",
          "evalue": "['product', 'complaint_narrative']",
          "traceback": [
            "\u001b[0;31m---------------------------------------------------------------------------\u001b[0m",
            "\u001b[0;31mKeyError\u001b[0m                                  Traceback (most recent call last)",
            "\u001b[0;32m<ipython-input-3-e3b262171c48>\u001b[0m in \u001b[0;36m<cell line: 21>\u001b[0;34m()\u001b[0m\n\u001b[1;32m     19\u001b[0m \u001b[0;34m\u001b[0m\u001b[0m\n\u001b[1;32m     20\u001b[0m \u001b[0mdf\u001b[0m\u001b[0;34m.\u001b[0m\u001b[0misnull\u001b[0m\u001b[0;34m(\u001b[0m\u001b[0;34m)\u001b[0m\u001b[0;34m.\u001b[0m\u001b[0msum\u001b[0m\u001b[0;34m(\u001b[0m\u001b[0;34m)\u001b[0m\u001b[0;34m\u001b[0m\u001b[0;34m\u001b[0m\u001b[0m\n\u001b[0;32m---> 21\u001b[0;31m \u001b[0mdf\u001b[0m\u001b[0;34m.\u001b[0m\u001b[0mdropna\u001b[0m\u001b[0;34m(\u001b[0m\u001b[0msubset\u001b[0m\u001b[0;34m=\u001b[0m\u001b[0;34m[\u001b[0m\u001b[0;34m'product'\u001b[0m\u001b[0;34m,\u001b[0m \u001b[0;34m'complaint_narrative'\u001b[0m\u001b[0;34m]\u001b[0m\u001b[0;34m,\u001b[0m \u001b[0minplace\u001b[0m\u001b[0;34m=\u001b[0m\u001b[0;32mTrue\u001b[0m\u001b[0;34m)\u001b[0m  \u001b[0;31m# Drop rows with missing values in relevant columns\u001b[0m\u001b[0;34m\u001b[0m\u001b[0;34m\u001b[0m\u001b[0m\n\u001b[0m\u001b[1;32m     22\u001b[0m \u001b[0mdf\u001b[0m \u001b[0;34m=\u001b[0m \u001b[0mshuffle\u001b[0m\u001b[0;34m(\u001b[0m\u001b[0mdf\u001b[0m\u001b[0;34m)\u001b[0m  \u001b[0;31m# Shuffle the dataset for randomness\u001b[0m\u001b[0;34m\u001b[0m\u001b[0;34m\u001b[0m\u001b[0m\n\u001b[1;32m     23\u001b[0m \u001b[0;34m\u001b[0m\u001b[0m\n",
            "\u001b[0;32m/usr/local/lib/python3.10/dist-packages/pandas/util/_decorators.py\u001b[0m in \u001b[0;36mwrapper\u001b[0;34m(*args, **kwargs)\u001b[0m\n\u001b[1;32m    329\u001b[0m                     \u001b[0mstacklevel\u001b[0m\u001b[0;34m=\u001b[0m\u001b[0mfind_stack_level\u001b[0m\u001b[0;34m(\u001b[0m\u001b[0;34m)\u001b[0m\u001b[0;34m,\u001b[0m\u001b[0;34m\u001b[0m\u001b[0;34m\u001b[0m\u001b[0m\n\u001b[1;32m    330\u001b[0m                 )\n\u001b[0;32m--> 331\u001b[0;31m             \u001b[0;32mreturn\u001b[0m \u001b[0mfunc\u001b[0m\u001b[0;34m(\u001b[0m\u001b[0;34m*\u001b[0m\u001b[0margs\u001b[0m\u001b[0;34m,\u001b[0m \u001b[0;34m**\u001b[0m\u001b[0mkwargs\u001b[0m\u001b[0;34m)\u001b[0m\u001b[0;34m\u001b[0m\u001b[0;34m\u001b[0m\u001b[0m\n\u001b[0m\u001b[1;32m    332\u001b[0m \u001b[0;34m\u001b[0m\u001b[0m\n\u001b[1;32m    333\u001b[0m         \u001b[0;31m# error: \"Callable[[VarArg(Any), KwArg(Any)], Any]\" has no\u001b[0m\u001b[0;34m\u001b[0m\u001b[0;34m\u001b[0m\u001b[0m\n",
            "\u001b[0;32m/usr/local/lib/python3.10/dist-packages/pandas/core/frame.py\u001b[0m in \u001b[0;36mdropna\u001b[0;34m(self, axis, how, thresh, subset, inplace)\u001b[0m\n\u001b[1;32m   6559\u001b[0m             \u001b[0mcheck\u001b[0m \u001b[0;34m=\u001b[0m \u001b[0mindices\u001b[0m \u001b[0;34m==\u001b[0m \u001b[0;34m-\u001b[0m\u001b[0;36m1\u001b[0m\u001b[0;34m\u001b[0m\u001b[0;34m\u001b[0m\u001b[0m\n\u001b[1;32m   6560\u001b[0m             \u001b[0;32mif\u001b[0m \u001b[0mcheck\u001b[0m\u001b[0;34m.\u001b[0m\u001b[0many\u001b[0m\u001b[0;34m(\u001b[0m\u001b[0;34m)\u001b[0m\u001b[0;34m:\u001b[0m\u001b[0;34m\u001b[0m\u001b[0;34m\u001b[0m\u001b[0m\n\u001b[0;32m-> 6561\u001b[0;31m                 \u001b[0;32mraise\u001b[0m \u001b[0mKeyError\u001b[0m\u001b[0;34m(\u001b[0m\u001b[0mnp\u001b[0m\u001b[0;34m.\u001b[0m\u001b[0marray\u001b[0m\u001b[0;34m(\u001b[0m\u001b[0msubset\u001b[0m\u001b[0;34m)\u001b[0m\u001b[0;34m[\u001b[0m\u001b[0mcheck\u001b[0m\u001b[0;34m]\u001b[0m\u001b[0;34m.\u001b[0m\u001b[0mtolist\u001b[0m\u001b[0;34m(\u001b[0m\u001b[0;34m)\u001b[0m\u001b[0;34m)\u001b[0m\u001b[0;34m\u001b[0m\u001b[0;34m\u001b[0m\u001b[0m\n\u001b[0m\u001b[1;32m   6562\u001b[0m             \u001b[0magg_obj\u001b[0m \u001b[0;34m=\u001b[0m \u001b[0mself\u001b[0m\u001b[0;34m.\u001b[0m\u001b[0mtake\u001b[0m\u001b[0;34m(\u001b[0m\u001b[0mindices\u001b[0m\u001b[0;34m,\u001b[0m \u001b[0maxis\u001b[0m\u001b[0;34m=\u001b[0m\u001b[0magg_axis\u001b[0m\u001b[0;34m)\u001b[0m\u001b[0;34m\u001b[0m\u001b[0;34m\u001b[0m\u001b[0m\n\u001b[1;32m   6563\u001b[0m \u001b[0;34m\u001b[0m\u001b[0m\n",
            "\u001b[0;31mKeyError\u001b[0m: ['product', 'complaint_narrative']"
          ]
        }
      ],
      "source": [
        "import pandas as pd\n",
        "import numpy as np\n",
        "import matplotlib.pyplot as plt\n",
        "import seaborn as sns\n",
        "from sklearn.model_selection import train_test_split\n",
        "from sklearn.feature_extraction.text import TfidfVectorizer\n",
        "from sklearn.naive_bayes import MultinomialNB\n",
        "from sklearn.metrics import accuracy_score, classification_report, confusion_matrix\n",
        "from sklearn.utils import shuffle  # Importing shuffle to randomize the dataset\n",
        "\n",
        "# Assuming 'https://www.consumerfinance.gov/data-research/consumer-complaints/' is the correct dataset URL\n",
        "dataset_url = 'https://files.consumerfinance.gov/ccdb/complaints.csv.zip'\n",
        "\n",
        "df = pd.read_csv(dataset_url, compression='zip')  # Load the dataset\n",
        "\n",
        "print(df.head())\n",
        "print(df.info())\n",
        "print(df.describe())\n",
        "\n",
        "df.isnull().sum()\n",
        "df.dropna(subset=['product', 'complaint_narrative'], inplace=True)  # Drop rows with missing values in relevant columns\n",
        "df = shuffle(df)  # Shuffle the dataset for randomness\n",
        "\n",
        "sns.histplot(df[\"product\"])\n",
        "sns.countplot(x=\"product\", data=df)\n",
        "\n",
        "X = df[\"complaint_narrative\"]\n",
        "\n",
        "def clean_text(text):\n",
        "    text = re.sub(r\"[^\\w\\s]\", \"\", text)\n",
        "    text = text.lower()\n",
        "    stop_words = set(stopwords.words(\"english\"))\n",
        "    text = \" \".join([word for word in text.split() if word not in stop_words])\n",
        "\n",
        "    return text\n",
        "\n",
        "X = X.apply(clean_text)\n",
        "\n",
        "vectorizer = TfidfVectorizer()\n",
        "X_vec = vectorizer.fit_transform(X)\n",
        "\n",
        "y = df[\"product\"]\n",
        "X_train, X_test, y_train, y_test = train_test_split(X_vec, y, test_size=0.2, random_state=42)\n",
        "\n",
        "model = MultinomialNB()\n",
        "model.fit(X_train, y_train)\n",
        "\n",
        "y_pred = model.predict(X_test)\n",
        "\n",
        "print(\"Accuracy:\", accuracy_score(y_test, y_pred))\n",
        "print(classification_report(y_test, y_pred))\n",
        "print(confusion_matrix(y_test, y_pred))\n",
        "\n",
        "new_complaint = \"I'm having trouble with my mortgage lender...\"\n",
        "new_complaint_vec = vectorizer.transform([clean_text(new_complaint)])  # Clean new text\n",
        "predicted_category = model.predict(new_complaint_vec)[0]\n",
        "print(\"Predicted category:\", predicted_category)"
      ]
    },
    {
      "cell_type": "code",
      "source": [
        "from google.colab import drive\n",
        "drive.mount('/content/drive')"
      ],
      "metadata": {
        "colab": {
          "base_uri": "https://localhost:8080/"
        },
        "id": "J-MVTpJYGChY",
        "outputId": "ab964cba-e181-42d1-9fc2-f67ac279fcf7"
      },
      "execution_count": 1,
      "outputs": [
        {
          "output_type": "stream",
          "name": "stdout",
          "text": [
            "Mounted at /content/drive\n"
          ]
        }
      ]
    }
  ]
}